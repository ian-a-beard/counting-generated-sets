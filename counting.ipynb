{
 "cells": [
  {
   "cell_type": "code",
   "execution_count": 42,
   "metadata": {},
   "outputs": [],
   "source": [
    "NEW_LIST = []\n",
    "n = 5"
   ]
  },
  {
   "cell_type": "code",
   "execution_count": 43,
   "metadata": {},
   "outputs": [
    {
     "name": "stdout",
     "output_type": "stream",
     "text": [
      "['a', 'b', 'g(a)', 'g(b)', 'g(g(a))', 'g(g(b))', 'g(g(g(a)))', 'g(g(g(b)))', 'g(g(g(g(a))))', 'g(g(g(g(b))))']\n"
     ]
    }
   ],
   "source": [
    "# algorithm for if we only have one unary operation\n",
    "\n",
    "OLD_LIST = [[\"a\"], [\"b\"]]\n",
    "\n",
    "\n",
    "for i in range(n-1):\n",
    "    for L in OLD_LIST:\n",
    "        # case 1, append either a or b\n",
    "        new_list = list(L)\n",
    "        new_list.append(\"a\")\n",
    "        NEW_LIST.append(new_list)\n",
    "\n",
    "        new_list = list(L)\n",
    "        new_list.append(\"b\")\n",
    "        NEW_LIST.append(new_list)\n",
    "\n",
    "        # case 2, unary operation g on a previous element in sequcne\n",
    "        for k in range (len(L)):\n",
    "            new_list = list(L)\n",
    "            new_list.append(\"g(\" + L[k] +\")\")\n",
    "        NEW_LIST.append(new_list)\n",
    "\n",
    "    # once finished processing a sequence in the previous C_n\n",
    "    OLD_LIST = NEW_LIST\n",
    "    if (i != n-1):\n",
    "        NEW_LIST = []\n",
    "\n",
    "#for L in OLD_LIST:\n",
    "    #print(L)\n",
    "\n",
    "# store our final possible constructed elements in MASTER list\n",
    "MASTER = []\n",
    "\n",
    "# grab last element of each list, remove duplicates\n",
    "for L in OLD_LIST:\n",
    "    if not L[len(L)-1] in MASTER:\n",
    "        MASTER.append(L[len(L)-1])\n",
    "\n",
    "\n",
    "print(MASTER)\n",
    "\n"
   ]
  }
 ],
 "metadata": {
  "kernelspec": {
   "display_name": "base",
   "language": "python",
   "name": "python3"
  },
  "language_info": {
   "codemirror_mode": {
    "name": "ipython",
    "version": 3
   },
   "file_extension": ".py",
   "mimetype": "text/x-python",
   "name": "python",
   "nbconvert_exporter": "python",
   "pygments_lexer": "ipython3",
   "version": "3.12.7"
  }
 },
 "nbformat": 4,
 "nbformat_minor": 2
}
